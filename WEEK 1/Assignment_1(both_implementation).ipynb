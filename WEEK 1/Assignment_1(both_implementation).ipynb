{
  "nbformat": 4,
  "nbformat_minor": 0,
  "metadata": {
    "colab": {
      "provenance": [],
      "authorship_tag": "ABX9TyNW9pQq9wSzru8sgGmOiw/Q",
      "include_colab_link": true
    },
    "kernelspec": {
      "name": "python3",
      "display_name": "Python 3"
    },
    "language_info": {
      "name": "python"
    }
  },
  "cells": [
    {
      "cell_type": "markdown",
      "metadata": {
        "id": "view-in-github",
        "colab_type": "text"
      },
      "source": [
        "<a href=\"https://colab.research.google.com/github/LoPA607/SOC-2024/blob/main/WEEK%201/Assignment_1(both_implementation).ipynb\" target=\"_parent\"><img src=\"https://colab.research.google.com/assets/colab-badge.svg\" alt=\"Open In Colab\"/></a>"
      ]
    },
    {
      "cell_type": "code",
      "execution_count": null,
      "metadata": {
        "id": "keheyB5WgeCF"
      },
      "outputs": [],
      "source": [
        "import torch\n",
        "import torch.nn as nn\n",
        "import numpy as np\n",
        "from sklearn import datasets\n",
        "from sklearn.preprocessing import StandardScaler\n",
        "from sklearn.model_selection import train_test_split\n",
        "from torch.utils.data import Dataset, DataLoader\n",
        "import math"
      ]
    },
    {
      "cell_type": "code",
      "source": [
        "bc=datasets.load_breast_cancer()\n",
        "X,y=bc.data, bc.target"
      ],
      "metadata": {
        "id": "S1iG14FOgiHr"
      },
      "execution_count": null,
      "outputs": []
    },
    {
      "cell_type": "code",
      "source": [
        "class load_breast_cancer(Dataset):\n",
        "\n",
        "    def __init__(self):\n",
        "        xy = np.loadtxt(bc, delimiter=',', dtype=np.float32, skiprows=1)\n",
        "        self.x = torch.from_numpy(xy[:, 1:])\n",
        "        self.y= torch.from_numpy(xy[:, [0]])\n",
        "        self.n_samples = xy.shape[0]\n",
        "\n",
        "    def __getitem__(self, index):\n",
        "        return self.x[index], self.y[index]\n",
        "\n",
        "\n",
        "    def __len__(self):\n",
        "        return self.n_samples\n"
      ],
      "metadata": {
        "id": "NyBCAPqY1zxp"
      },
      "execution_count": null,
      "outputs": []
    },
    {
      "cell_type": "code",
      "source": [
        "dataset=bc\n"
      ],
      "metadata": {
        "id": "AlVTJbCn12SD"
      },
      "execution_count": null,
      "outputs": []
    },
    {
      "cell_type": "code",
      "source": [
        "n_samples,n_features=X.shape\n",
        "X_train, X_test, y_train, y_test=train_test_split(X,y, test_size=0.9859, random_state=1234)"
      ],
      "metadata": {
        "id": "FS4oSFb1g9PF"
      },
      "execution_count": null,
      "outputs": []
    },
    {
      "cell_type": "code",
      "source": [
        "dataloader=DataLoader(list(zip(X_train,y_train)), batch_size=4, shuffle=True)\n"
      ],
      "metadata": {
        "id": "3h9Gq7D98kZQ"
      },
      "execution_count": null,
      "outputs": []
    },
    {
      "cell_type": "code",
      "source": [
        "X_train.shape"
      ],
      "metadata": {
        "colab": {
          "base_uri": "https://localhost:8080/"
        },
        "id": "NScHYP5q3gbO",
        "outputId": "69848496-8c3c-4f53-890f-c597ad94295e"
      },
      "execution_count": null,
      "outputs": [
        {
          "output_type": "execute_result",
          "data": {
            "text/plain": [
              "(8, 30)"
            ]
          },
          "metadata": {},
          "execution_count": 392
        }
      ]
    },
    {
      "cell_type": "code",
      "source": [
        "len(dataset)"
      ],
      "metadata": {
        "colab": {
          "base_uri": "https://localhost:8080/"
        },
        "id": "JLnTEQZp3mLh",
        "outputId": "9f6f7a89-5ef6-42d7-edb7-755662aeca1e"
      },
      "execution_count": null,
      "outputs": [
        {
          "output_type": "execute_result",
          "data": {
            "text/plain": [
              "8"
            ]
          },
          "metadata": {},
          "execution_count": 393
        }
      ]
    },
    {
      "cell_type": "code",
      "source": [
        "print(dataloader.batch_size)"
      ],
      "metadata": {
        "colab": {
          "base_uri": "https://localhost:8080/"
        },
        "id": "YuzB55zg6iqL",
        "outputId": "60e64846-8f5f-4cd8-db9f-2806d0955c7f"
      },
      "execution_count": null,
      "outputs": [
        {
          "output_type": "stream",
          "name": "stdout",
          "text": [
            "4\n"
          ]
        }
      ]
    },
    {
      "cell_type": "code",
      "source": [
        "sc=StandardScaler()\n",
        "X_train=sc.fit_transform(X_train)\n",
        "X_test=sc.transform(X_test)"
      ],
      "metadata": {
        "id": "9TJI13XWhQbw"
      },
      "execution_count": null,
      "outputs": []
    },
    {
      "cell_type": "code",
      "source": [
        "X_train=torch.from_numpy(X_train.astype(np.float32))\n",
        "X_test=torch.from_numpy(X_test.astype(np.float32))\n",
        "y_train=torch.from_numpy(y_train.astype(np.float32))\n",
        "y_test=torch.from_numpy(y_test.astype(np.float32))"
      ],
      "metadata": {
        "id": "za43kfE2hjDI"
      },
      "execution_count": null,
      "outputs": []
    },
    {
      "cell_type": "code",
      "source": [
        "y_train=y_train.view(y_train.shape[0],1)\n",
        "y_test=y_test.view(y_test.shape[0],1)"
      ],
      "metadata": {
        "id": "_4jjGSYCiKyN"
      },
      "execution_count": null,
      "outputs": []
    },
    {
      "cell_type": "code",
      "source": [
        "class LogisticRegression(nn.Module):\n",
        "    def __init__(self, n_input_features):\n",
        "        super(LogisticRegression, self).__init__()\n",
        "        self.linear = nn.Linear(n_input_features, 1)\n",
        "\n",
        "    def forward(self, x):\n",
        "        y_predicted = torch.sigmoid(self.linear(x))\n",
        "        return y_predicted\n"
      ],
      "metadata": {
        "id": "1GoU6znvie4q"
      },
      "execution_count": null,
      "outputs": []
    },
    {
      "cell_type": "code",
      "source": [
        "model=LogisticRegression(n_features)\n"
      ],
      "metadata": {
        "id": "zNCqVCpRj50W"
      },
      "execution_count": null,
      "outputs": []
    },
    {
      "cell_type": "code",
      "source": [
        "learning_rate=0.01\n",
        "criterion=nn.BCELoss()\n",
        "optimizer=torch.optim.Adam(model.parameters(), lr=learning_rate)\n",
        "num_epochs=100\n",
        "total_samples=len(dataset)\n",
        "n_iterations=math.ceil(total_samples/4)\n",
        "for epoch in range(num_epochs):\n",
        "  for i, (inputs,labels) in enumerate(dataloader):\n",
        "      if (i + 1) % 5 == 0:\n",
        "        print(f'epoch{epoch + 1}/{num_epochs}, step {i + 1}/{n_iterations}, input {inputs.shape}')\n",
        "      optimizer.zero_grad()\n",
        "      y_predicted = model(X_train)\n",
        "      loss = criterion(y_predicted, y_train)\n",
        "      loss.backward()\n",
        "      optimizer.step()\n",
        "  if (epoch + 1) % 10 == 0:\n",
        "        print(f'epoch:{epoch + 1}, loss={loss.item():.4f}')"
      ],
      "metadata": {
        "colab": {
          "base_uri": "https://localhost:8080/"
        },
        "id": "NhYzh5eAkgYB",
        "outputId": "818063fb-4c7e-4cc3-8ca4-14b1914f7b91"
      },
      "execution_count": null,
      "outputs": [
        {
          "output_type": "stream",
          "name": "stdout",
          "text": [
            "epoch:10, loss=0.0434\n",
            "epoch:20, loss=0.0142\n",
            "epoch:30, loss=0.0089\n",
            "epoch:40, loss=0.0066\n",
            "epoch:50, loss=0.0053\n",
            "epoch:60, loss=0.0043\n",
            "epoch:70, loss=0.0036\n",
            "epoch:80, loss=0.0031\n",
            "epoch:90, loss=0.0027\n",
            "epoch:100, loss=0.0023\n"
          ]
        }
      ]
    },
    {
      "cell_type": "code",
      "source": [
        "with torch.no_grad():\n",
        "  y_predicted=model(X_test)\n",
        "  y_predicted_cls=y_predicted.round()\n",
        "  acc=y_predicted_cls.eq(y_test).sum()/float(y_test.shape[0])\n",
        "  print(f'accuracy={acc:.4f}')"
      ],
      "metadata": {
        "colab": {
          "base_uri": "https://localhost:8080/"
        },
        "id": "9HOIakKTl51A",
        "outputId": "5be07f70-3d07-45ca-e878-084b9b589800"
      },
      "execution_count": null,
      "outputs": [
        {
          "output_type": "stream",
          "name": "stdout",
          "text": [
            "accuracy=0.8378\n"
          ]
        }
      ]
    },
    {
      "cell_type": "code",
      "source": [],
      "metadata": {
        "id": "78Vm_ZKG-UCo"
      },
      "execution_count": null,
      "outputs": []
    }
  ]
}