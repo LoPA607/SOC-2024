{
  "nbformat": 4,
  "nbformat_minor": 0,
  "metadata": {
    "colab": {
      "provenance": [],
      "authorship_tag": "ABX9TyNdUU6jebhjt2NZcgLur4MF",
      "include_colab_link": true
    },
    "kernelspec": {
      "name": "python3",
      "display_name": "Python 3"
    },
    "language_info": {
      "name": "python"
    }
  },
  "cells": [
    {
      "cell_type": "markdown",
      "metadata": {
        "id": "view-in-github",
        "colab_type": "text"
      },
      "source": [
        "<a href=\"https://colab.research.google.com/github/LoPA607/SOC-2024/blob/main/WEEK%201/Assignment_1(Data_loader).ipynb\" target=\"_parent\"><img src=\"https://colab.research.google.com/assets/colab-badge.svg\" alt=\"Open In Colab\"/></a>"
      ]
    },
    {
      "cell_type": "code",
      "execution_count": null,
      "metadata": {
        "id": "3aVPVd9spV7C"
      },
      "outputs": [],
      "source": [
        "import torch\n",
        "import torchvision\n",
        "from torch.utils.data import Dataset, DataLoader\n",
        "import numpy as np\n",
        "import math"
      ]
    },
    {
      "cell_type": "code",
      "source": [
        "class WineDataset(Dataset):\n",
        "\n",
        "    def __init__(self):\n",
        "        xy = np.loadtxt('wine.csv', delimiter=',', dtype=np.float32, skiprows=1)\n",
        "        self.x = torch.from_numpy(xy[:, 1:])\n",
        "        self.y= torch.from_numpy(xy[:, [0]])\n",
        "        self.n_samples = xy.shape[0]\n",
        "\n",
        "    def __getitem__(self, index):\n",
        "        return self.x[index], self.y[index]\n",
        "\n",
        "\n",
        "    def __len__(self):\n",
        "        return self.n_samples\n",
        "\n"
      ],
      "metadata": {
        "id": "jxRYoMkNsttR"
      },
      "execution_count": null,
      "outputs": []
    },
    {
      "cell_type": "code",
      "source": [
        "dataset=WineDataset()\n",
        "first_data=dataset[0]\n",
        "features, labels=first_data\n",
        "print(features, labels)"
      ],
      "metadata": {
        "colab": {
          "base_uri": "https://localhost:8080/"
        },
        "id": "_XBJTeZ8ufyP",
        "outputId": "7437a1ce-1693-4b95-bb34-34b2c2a5ee42"
      },
      "execution_count": null,
      "outputs": [
        {
          "output_type": "stream",
          "name": "stdout",
          "text": [
            "tensor([1.4230e+01, 1.7100e+00, 2.4300e+00, 1.5600e+01, 1.2700e+02, 2.8000e+00,\n",
            "        3.0600e+00, 2.8000e-01, 2.2900e+00, 5.6400e+00, 1.0400e+00, 3.9200e+00,\n",
            "        1.0650e+03]) tensor([1.])\n"
          ]
        }
      ]
    },
    {
      "cell_type": "code",
      "source": [
        "dataloader=DataLoader(dataset=dataset, batch_size=4, shuffle=True, num_workers=2)\n"
      ],
      "metadata": {
        "id": "UaUo3su6u_Uq"
      },
      "execution_count": null,
      "outputs": []
    },
    {
      "cell_type": "code",
      "source": [
        "num_epochs=100\n",
        "total_samples=len(dataset)\n",
        "n_iterations=math.ceil(total_samples/4)\n",
        "print(total_samples, n_iterations)\n"
      ],
      "metadata": {
        "colab": {
          "base_uri": "https://localhost:8080/"
        },
        "id": "pFPic4H6vYbY",
        "outputId": "4643928a-44c3-4408-ef79-5325189d725a"
      },
      "execution_count": null,
      "outputs": [
        {
          "output_type": "stream",
          "name": "stdout",
          "text": [
            "178 45\n"
          ]
        }
      ]
    },
    {
      "cell_type": "code",
      "source": [
        "for epoch in range (num_epochs):\n",
        "  for i , (inputs,labels) in enumerate(dataloader):\n",
        "    if (i+1)%5==0:\n",
        "      print(f'epoch{epoch+1}/{num_epochs}, step {i+1}/{n_iterations }, input {inputs.shape}')\n"
      ],
      "metadata": {
        "colab": {
          "base_uri": "https://localhost:8080/"
        },
        "id": "vTv_II_gvsvr",
        "outputId": "53363d32-9cc7-4bd3-f065-1b0bb15dd4fa"
      },
      "execution_count": null,
      "outputs": [
        {
          "output_type": "stream",
          "name": "stdout",
          "text": [
            "epoch1/2, step 5/45, input torch.Size([4, 13])\n",
            "epoch1/2, step 10/45, input torch.Size([4, 13])\n",
            "epoch1/2, step 15/45, input torch.Size([4, 13])\n",
            "epoch1/2, step 20/45, input torch.Size([4, 13])\n",
            "epoch1/2, step 25/45, input torch.Size([4, 13])\n",
            "epoch1/2, step 30/45, input torch.Size([4, 13])\n",
            "epoch1/2, step 35/45, input torch.Size([4, 13])\n",
            "epoch1/2, step 40/45, input torch.Size([4, 13])\n",
            "epoch1/2, step 45/45, input torch.Size([2, 13])\n",
            "epoch2/2, step 5/45, input torch.Size([4, 13])\n",
            "epoch2/2, step 10/45, input torch.Size([4, 13])\n",
            "epoch2/2, step 15/45, input torch.Size([4, 13])\n",
            "epoch2/2, step 20/45, input torch.Size([4, 13])\n",
            "epoch2/2, step 25/45, input torch.Size([4, 13])\n",
            "epoch2/2, step 30/45, input torch.Size([4, 13])\n",
            "epoch2/2, step 35/45, input torch.Size([4, 13])\n",
            "epoch2/2, step 40/45, input torch.Size([4, 13])\n",
            "epoch2/2, step 45/45, input torch.Size([2, 13])\n"
          ]
        }
      ]
    },
    {
      "cell_type": "code",
      "source": [],
      "metadata": {
        "id": "i2BUS0HYyVr2"
      },
      "execution_count": null,
      "outputs": []
    }
  ]
}